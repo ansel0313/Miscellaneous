{
 "cells": [
  {
   "cell_type": "markdown",
   "metadata": {},
   "source": [
    "# How to read image in Python\n",
    "1. opencv\n",
    "2. PIL(pillow)\n",
    "3. matplotlib.image\n",
    "4. imageio (previous scipy.misc)\n",
    "5. skimage"
   ]
  },
  {
   "cell_type": "markdown",
   "metadata": {},
   "source": [
    "## OpenCV: cv2.imread"
   ]
  },
  {
   "cell_type": "code",
   "execution_count": 1,
   "metadata": {},
   "outputs": [],
   "source": [
    "import cv2 \n",
    "import numpy as np"
   ]
  },
  {
   "cell_type": "code",
   "execution_count": null,
   "metadata": {},
   "outputs": [],
   "source": [
    "img = cv2.imread('lena.png')\n",
    "cv2.imshow('src' , img)\n",
    "print(img.shape) # (h,w,c)\n",
    "print(img.size) # total number of pixel\n",
    "print(img.dtype)\n",
    "print(img)\n",
    "cv2.waitKey()"
   ]
  },
  {
   "cell_type": "markdown",
   "metadata": {},
   "source": [
    "### Grayscale in OpenCV"
   ]
  },
  {
   "cell_type": "code",
   "execution_count": null,
   "metadata": {},
   "outputs": [],
   "source": [
    "# Method 1\n",
    "# gray = cv2.imread('1.jpg',cv2.IMREAD_GRAYSCALE) \n",
    "# cv2.imshow('gray',gray)\n",
    "\n",
    "# Method 2\n",
    "src = cv2.imread('lena.png')\n",
    "gray = cv2.cvtColor(src,cv2.COLOR_BGR2GRAY)\n",
    "cv2.imshow('gray',gray)\n",
    "print(gray.shape)\n",
    "print(gray.size)\n",
    "print(gray)\n",
    "cv2.waitKey()"
   ]
  },
  {
   "cell_type": "markdown",
   "metadata": {},
   "source": [
    "### Be careful! There is no warning if the load fails, but you will get NONE when you try to print it."
   ]
  },
  {
   "cell_type": "code",
   "execution_count": null,
   "metadata": {},
   "outputs": [],
   "source": [
    "img2 = cv2.imread('2.jpg')\n",
    "print(img2)\n",
    "\n",
    "# One way to fix this problem\n",
    "img2 = cv2.imread('2.jpg')\n",
    "if img2 == None:\n",
    "    print('fail to load image!')"
   ]
  },
  {
   "cell_type": "markdown",
   "metadata": {},
   "source": [
    "### Picture matrix transoformation \n",
    "openCV imread: (height, width, channels);\n",
    "\n",
    "common formart in CNN: (channels, height, width) or even (batch_size, channels, height, width)"
   ]
  },
  {
   "cell_type": "code",
   "execution_count": null,
   "metadata": {},
   "outputs": [],
   "source": [
    "print(img.shape)\n",
    "img_t = img.transpose(2,0,1)\n",
    "print(img_t.shape)\n",
    "\n",
    "# Expand batch dimension\n",
    "img_b = np.expand_dims(img_t, axis=0)\n",
    "print(img_b.shape)\n",
    "\n",
    "# Get batch\n",
    "# data_list = [] \n",
    "# loop:\n",
    "#     im = cv2.imread('xxx.png')\n",
    "#     data_list.append(im)\n",
    "# data_arr = np.array(data_list)"
   ]
  },
  {
   "cell_type": "markdown",
   "metadata": {},
   "source": [
    "### Image normalization and save"
   ]
  },
  {
   "cell_type": "code",
   "execution_count": null,
   "metadata": {},
   "outputs": [],
   "source": [
    "img3 = cv2.imread('lena.png')\n",
    "img3 = img3.astype(\"float\") / 255.0  #FLOAT!\n",
    "print(img3.dtype)\n",
    "print(img3)\n",
    "\n",
    "cv2.imwrite('test1.jpg',img3) # all black beacause of 255.0 division\n",
    "img3 = img3 * 255\n",
    "cv2.imwrite('test2.jpg',img3)"
   ]
  },
  {
   "cell_type": "markdown",
   "metadata": {},
   "source": [
    "### BGR in OpenCV"
   ]
  },
  {
   "cell_type": "code",
   "execution_count": null,
   "metadata": {},
   "outputs": [],
   "source": [
    "img4 = cv2.imread('lena.png')\n",
    "img4 = cv2.cvtColor(img4, cv2.COLOR_BGR2RGB) # BGR to RGB\n",
    "\n",
    "print(img4[10,10])  #3channels\n",
    "print(gray[10,10]) #1channel\n",
    "img4[10,10] = [255,255,255]\n",
    "gray[10,10] = 255\n",
    "print(img4[10,10])  #3channels\n",
    "print(gray[10,10]) #1channel"
   ]
  },
  {
   "cell_type": "markdown",
   "metadata": {},
   "source": [
    "### ROI (region of interest)"
   ]
  },
  {
   "cell_type": "code",
   "execution_count": null,
   "metadata": {},
   "outputs": [],
   "source": [
    "roi = img4[ 200 : 550 , 100 : 450 , : ]\n",
    "cv2.imshow('roi', roi)\n",
    "cv2.waitKey()"
   ]
  },
  {
   "cell_type": "markdown",
   "metadata": {},
   "source": [
    "### Channel operation"
   ]
  },
  {
   "cell_type": "code",
   "execution_count": 40,
   "metadata": {},
   "outputs": [],
   "source": [
    "# Split channel\n",
    "img5 = cv2.imread('lena.png')\n",
    "b,g,r = cv2.split(img5)\n",
    "\n",
    "#Merge channel\n",
    "img5 = cv2.merge((b,g,r))\n",
    "\n",
    "#Channel operation \n",
    "img5[:,:,2] = 0  # set all pixel in red channel to 0"
   ]
  },
  {
   "cell_type": "markdown",
   "metadata": {},
   "source": [
    "## PIL：PIL.Image.open"
   ]
  },
  {
   "cell_type": "code",
   "execution_count": 41,
   "metadata": {},
   "outputs": [],
   "source": [
    "from PIL import Image\n",
    "import numpy as np"
   ]
  },
  {
   "cell_type": "markdown",
   "metadata": {},
   "source": [
    "### the PIL read image as an object rather than numpy array"
   ]
  },
  {
   "cell_type": "code",
   "execution_count": null,
   "metadata": {},
   "outputs": [],
   "source": [
    "img = Image.open('lena.png')\n",
    "print(img.format) \n",
    "print(img.size) \n",
    "print(img.mode)  #L: Grayscale, RGB, RGBA is RGB with transparency channel\n",
    "img.show() \n",
    "\n",
    "# Transfor to Numpy Array\n",
    "arr = np.asarray(img3)\n",
    "print(arr.shape)\n",
    "print(arr.dtype)\n",
    "print(arr)\n",
    "\n",
    "#Grayscale\n",
    "gray = Image.open('lena.png').convert('L')\n",
    "gray.show()"
   ]
  },
  {
   "cell_type": "markdown",
   "metadata": {},
   "source": [
    "### Load failure"
   ]
  },
  {
   "cell_type": "code",
   "execution_count": 47,
   "metadata": {},
   "outputs": [
    {
     "name": "stdout",
     "output_type": "stream",
     "text": [
      "fail to load image!\n"
     ]
    }
   ],
   "source": [
    "try:\n",
    "    img2 = Image.open('2.jpg')\n",
    "except IOError:\n",
    "    print('fail to load image!')"
   ]
  },
  {
   "cell_type": "markdown",
   "metadata": {},
   "source": [
    "### Image save"
   ]
  },
  {
   "cell_type": "code",
   "execution_count": 66,
   "metadata": {},
   "outputs": [],
   "source": [
    "new_im = Image.fromarray(np.uint8(arr))\n",
    "new_im.save('PIL.jpg')"
   ]
  },
  {
   "cell_type": "markdown",
   "metadata": {},
   "source": [
    "### Image operation"
   ]
  },
  {
   "cell_type": "code",
   "execution_count": 67,
   "metadata": {},
   "outputs": [],
   "source": [
    "r, g, b = img.split()\n",
    "img = Image.merge(\"RGB\", (b, g, r))\n",
    "img = img.copy()"
   ]
  },
  {
   "cell_type": "markdown",
   "metadata": {},
   "source": [
    "### ROI"
   ]
  },
  {
   "cell_type": "code",
   "execution_count": 70,
   "metadata": {},
   "outputs": [],
   "source": [
    "img3 = Image.open('lena.png')\n",
    "roi = img3.crop((0,0,300,300)) # (left up x，left up y，right down x，right down y) \n",
    "roi.show()"
   ]
  },
  {
   "cell_type": "markdown",
   "metadata": {},
   "source": [
    "## matplotlib：matplotlib.image.imread"
   ]
  },
  {
   "cell_type": "code",
   "execution_count": 71,
   "metadata": {},
   "outputs": [],
   "source": [
    "import matplotlib.pyplot as plt\n",
    "import numpy as np"
   ]
  },
  {
   "cell_type": "code",
   "execution_count": null,
   "metadata": {},
   "outputs": [],
   "source": [
    "image = plt.imread('lena.png')\n",
    "plt.imshow(image)\n",
    "plt.show()"
   ]
  },
  {
   "cell_type": "code",
   "execution_count": null,
   "metadata": {},
   "outputs": [],
   "source": [
    "# axis off\n",
    "image = plt.imread('lena.png')\n",
    "plt.imshow(image)\n",
    "plt.axis('off')\n",
    "plt.show()"
   ]
  },
  {
   "cell_type": "code",
   "execution_count": null,
   "metadata": {},
   "outputs": [],
   "source": [
    "# plt.imread read the image as np.array just as OpenCV but in RGB.\n",
    "print(image.shape) # (h,w,c)\n",
    "print(image.size)\n",
    "print(image.dtype) \n",
    "print(image)"
   ]
  },
  {
   "cell_type": "code",
   "execution_count": null,
   "metadata": {},
   "outputs": [],
   "source": [
    "im_r = image[:,:,0] # red channel\n",
    "plt.imshow(im_r)\n",
    "plt.show()\n",
    "# here the heat map is displayed. You can add the cmap parameter to get grayscale image.\n",
    "plt.imshow(im_r,cmap='Greys_r')\n",
    "plt.show()\n"
   ]
  },
  {
   "cell_type": "markdown",
   "metadata": {},
   "source": [
    "### Matplotlib with OpenCV"
   ]
  },
  {
   "cell_type": "code",
   "execution_count": null,
   "metadata": {},
   "outputs": [],
   "source": [
    "import cv2\n",
    "im2 = cv2.imread('lena.png')\n",
    "plt.imshow(im2)\n",
    "plt.axis('off')\n",
    "plt.show()\n",
    "# wired image because of the BGR of the openCV\n",
    "im2 = cv2.cvtColor(im2,cv2.COLOR_BGR2RGB)\n",
    "plt.imshow(im2)\n",
    "plt.axis('off')\n",
    "plt.show()\n",
    "# no matter what library is used to read image, you just need to convert it into np.array and it could be handled by matplotlib."
   ]
  },
  {
   "cell_type": "markdown",
   "metadata": {},
   "source": [
    "### Matplotlib with PIL"
   ]
  },
  {
   "cell_type": "code",
   "execution_count": null,
   "metadata": {},
   "outputs": [],
   "source": [
    "from PIL import Image\n",
    "im3 = Image.open('lena.png')\n",
    "im3 = np.array(im3)\n",
    "plt.figure(1)\n",
    "plt.imshow(im3)\n",
    "plt.axis('off')\n",
    "# Save the image, note that you must use savefig before show methode, otherwise the stored image is all blank.\n",
    "plt.savefig('lena.jpg')\n",
    "plt.show()"
   ]
  },
  {
   "cell_type": "markdown",
   "metadata": {},
   "source": [
    "### Comprehensive skills with Matplotlibm"
   ]
  },
  {
   "cell_type": "code",
   "execution_count": null,
   "metadata": {},
   "outputs": [],
   "source": [
    "im_lol1 =  plt.imread('lena.png')\n",
    "im_lol2 =  plt.imread('lena.png')\n",
    "figure = plt.figure(figsize=(20,10)) # adjust the size of the displayed image\n",
    "'''\n",
    "Figsize parameter: specifies the width and height of the object in inches; the dpi parameter specifies the resolution of the drawing object.\n",
    "That is, how many pixels per inch, the default is 80. So the width of the chart window created in this example is 8*80 = 640 pixels.\n",
    "'''\n",
    "plt.axis(\"off\")\n",
    "ax = figure.add_subplot(121) # displayed in 1 row and 2 columns\n",
    "plt.axis('off')\n",
    "ax.imshow(im_lol1) \n",
    "ax.set_title('lol image 1') \n",
    "ax = figure.add_subplot(122) \n",
    "plt.axis('off')\n",
    "ax.imshow(im_lol2) \n",
    "ax.set_title('lol image 2')\n",
    "\n",
    "plt.savefig('twp.jpg')\n",
    "plt.show()"
   ]
  },
  {
   "cell_type": "markdown",
   "metadata": {},
   "source": [
    "## imageio (previous scipy.misc)"
   ]
  },
  {
   "cell_type": "code",
   "execution_count": null,
   "metadata": {},
   "outputs": [],
   "source": [
    "import imageio\n",
    "im2 = imageio.imread('lena.png')\n",
    "print(im2.dtype)\n",
    "print(im2.size)\n",
    "print(im2.shape)\n",
    "plt.imshow(im)\n",
    "plt.show()\n",
    "print(im2)\n",
    "imageio.imsave('imageio.png',im2)\n"
   ]
  },
  {
   "cell_type": "markdown",
   "metadata": {},
   "source": [
    "## skimage：skimage.io.imread"
   ]
  },
  {
   "cell_type": "code",
   "execution_count": null,
   "metadata": {},
   "outputs": [],
   "source": [
    "from skimage import io\n",
    "\n",
    "im = io.imread('lena.png') # io.imread('1.jpg',as_grey=True) for Greyscale\n",
    "print(im.shape) # numpy array，(h,w,c)\n",
    "print(im.dtype)\n",
    "print(im.size)\n",
    "io.imshow(im)\n",
    "io.imsave('sk.png',im)\n",
    "print(im)"
   ]
  },
  {
   "cell_type": "code",
   "execution_count": null,
   "metadata": {},
   "outputs": [],
   "source": []
  }
 ],
 "metadata": {
  "kernelspec": {
   "display_name": "Python 3",
   "language": "python",
   "name": "python3"
  },
  "language_info": {
   "codemirror_mode": {
    "name": "ipython",
    "version": 3
   },
   "file_extension": ".py",
   "mimetype": "text/x-python",
   "name": "python",
   "nbconvert_exporter": "python",
   "pygments_lexer": "ipython3",
   "version": "3.7.3"
  }
 },
 "nbformat": 4,
 "nbformat_minor": 2
}
